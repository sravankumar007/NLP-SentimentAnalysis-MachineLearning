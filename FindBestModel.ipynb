{
 "cells": [
  {
   "cell_type": "code",
   "execution_count": 1,
   "metadata": {},
   "outputs": [
    {
     "name": "stderr",
     "output_type": "stream",
     "text": [
      "C:\\Users\\srava\\anaconda3\\lib\\site-packages\\sklearn\\utils\\deprecation.py:143: FutureWarning: The sklearn.utils.testing module is  deprecated in version 0.22 and will be removed in version 0.24. The corresponding classes / functions should instead be imported from sklearn.utils. Anything that cannot be imported from sklearn.utils is now part of the private API.\n",
      "  warnings.warn(message, FutureWarning)\n"
     ]
    }
   ],
   "source": [
    "import numpy as np\n",
    "import pandas as pd  \n",
    "import re\n",
    "from sklearn.model_selection import train_test_split\n",
    "from sklearn.feature_extraction.text import CountVectorizer\n",
    "from sklearn.ensemble import RandomForestClassifier\n",
    "from sklearn.svm import LinearSVC\n",
    "from sklearn.metrics import accuracy_score\n",
    "from sklearn.feature_extraction.text import TfidfVectorizer\n",
    "from sklearn.naive_bayes import MultinomialNB, GaussianNB\n",
    "from sklearn.utils.testing import ignore_warnings\n",
    "from sklearn.metrics import classification_report,confusion_matrix,accuracy_score\n",
    "from sklearn.exceptions import ConvergenceWarning\n",
    "from sklearn.linear_model import LogisticRegression\n",
    "from sklearn.metrics import roc_curve, auc\n",
    "import matplotlib.pyplot as plt\n",
    "from sklearn.model_selection import RepeatedStratifiedKFold\n",
    "from sklearn.model_selection import cross_val_score"
   ]
  },
  {
   "cell_type": "code",
   "execution_count": 2,
   "metadata": {},
   "outputs": [],
   "source": [
    "# Load data\n",
    "train = pd.read_csv(\"trainAfterCleaningPreprocessing.csv\", header=0, delimiter=\",\")\n",
    "\n",
    "test = pd.read_csv(\"testAfterCleaningPreprocessing.csv\", header=0, delimiter=\",\")"
   ]
  },
  {
   "cell_type": "code",
   "execution_count": 3,
   "metadata": {},
   "outputs": [],
   "source": [
    "train = train.drop(columns=['Reviews','reviewNumbers','ratings'],axis=1)\n",
    "train.rename(columns = {'Reviews after Cleaning':'review','Category':'sentiment'}, inplace = True)"
   ]
  },
  {
   "cell_type": "code",
   "execution_count": 4,
   "metadata": {},
   "outputs": [],
   "source": [
    "train[\"sentiment\"].replace({\"positive\": 1, \"negative\": 0}, inplace=True)"
   ]
  },
  {
   "cell_type": "code",
   "execution_count": 5,
   "metadata": {},
   "outputs": [],
   "source": [
    "test = test.drop(columns=['Reviews','reviewNumbers','ratings'],axis=1)"
   ]
  },
  {
   "cell_type": "code",
   "execution_count": 6,
   "metadata": {},
   "outputs": [],
   "source": [
    "test.rename(columns = {'Reviews after Cleaning':'review','Category':'sentiment'}, inplace = True)"
   ]
  },
  {
   "cell_type": "code",
   "execution_count": 7,
   "metadata": {},
   "outputs": [],
   "source": [
    "test[\"sentiment\"].replace({\"positive\": 1, \"negative\": 0}, inplace=True)"
   ]
  },
  {
   "cell_type": "code",
   "execution_count": 8,
   "metadata": {},
   "outputs": [],
   "source": [
    "# bag of words  \n",
    "bw_vectorizer = CountVectorizer(analyzer = \"word\", binary=True, ngram_range=(1, 2)) \n",
    "bw_vectorizer.fit(train.review)\n",
    "train_bw = bw_vectorizer.transform(train.review)\n",
    "test_bw  = bw_vectorizer.transform(test.review)"
   ]
  },
  {
   "cell_type": "code",
   "execution_count": 9,
   "metadata": {},
   "outputs": [],
   "source": [
    "# Split data to test preprocessing and modeling techniques\n",
    "X_train, X_test, y_train, y_test = train_test_split(train_bw, train.sentiment, test_size=0.3)"
   ]
  },
  {
   "cell_type": "code",
   "execution_count": 10,
   "metadata": {},
   "outputs": [
    {
     "data": {
      "text/plain": [
       "['00',\n",
       " '00 10',\n",
       " '00 doc',\n",
       " '00 keoni',\n",
       " '00 seen',\n",
       " '00 worth',\n",
       " '000',\n",
       " '000 produce',\n",
       " '0000000000001',\n",
       " '0000000000001 10',\n",
       " '000001',\n",
       " '000001 10',\n",
       " '000001 chance',\n",
       " '0001',\n",
       " '0001 percent',\n",
       " '00015',\n",
       " '00015 second',\n",
       " '001',\n",
       " '001 360',\n",
       " '001 brief',\n",
       " '001 laughometer',\n",
       " '002',\n",
       " '002 10',\n",
       " '003830',\n",
       " '003830 42',\n",
       " '006',\n",
       " '006 ending',\n",
       " '007',\n",
       " '007 adventure',\n",
       " '007 agent',\n",
       " '007 bruce',\n",
       " '007 cast',\n",
       " '007 dr',\n",
       " '007 fan',\n",
       " '007 franchise',\n",
       " '007 frwl',\n",
       " '007 game',\n",
       " '007 graphic',\n",
       " '007 least',\n",
       " '007 movie',\n",
       " '007 oh',\n",
       " '007 scene',\n",
       " '007 sure',\n",
       " '0079',\n",
       " '0079 one',\n",
       " '0080',\n",
       " '0080 0083',\n",
       " '0080 focus',\n",
       " '0080 war',\n",
       " '0080 well',\n",
       " '0083',\n",
       " '0083 08th',\n",
       " '0083 check',\n",
       " '00s',\n",
       " '00s 1991',\n",
       " '00s either',\n",
       " '00s far',\n",
       " '00s however',\n",
       " '00s seem',\n",
       " '00s several',\n",
       " '00s slasher',\n",
       " '00s still',\n",
       " '01',\n",
       " '01 10',\n",
       " '01 23',\n",
       " '01 30',\n",
       " '01 budget',\n",
       " '01 enterprise',\n",
       " '01 fat',\n",
       " '01 film',\n",
       " '01 give',\n",
       " '01 incident',\n",
       " '01 julie',\n",
       " '01 kid',\n",
       " '01 leaf',\n",
       " '01 may',\n",
       " '01 nyc',\n",
       " '01 productive',\n",
       " '01 reject',\n",
       " '01 saw',\n",
       " '01 second',\n",
       " '01 seen',\n",
       " '01 ship',\n",
       " '01 somewhat',\n",
       " '01 total',\n",
       " '01 tragedy',\n",
       " '010',\n",
       " '010 per',\n",
       " '0130',\n",
       " '0130 within',\n",
       " '02',\n",
       " '02 10',\n",
       " '02 13',\n",
       " '02 aware',\n",
       " '02 exact',\n",
       " '02 lifetime',\n",
       " '02 movie',\n",
       " '02 peter',\n",
       " '02 sam',\n",
       " '02 september',\n",
       " '02 share',\n",
       " '02 tv',\n",
       " '020410html',\n",
       " '020410html example',\n",
       " '029',\n",
       " '029 keypunch',\n",
       " '03',\n",
       " '03 10',\n",
       " '03 11',\n",
       " '03 oct',\n",
       " '03 wish',\n",
       " '04',\n",
       " '04 saw',\n",
       " '04 what_the_bleep_html',\n",
       " '04 youd',\n",
       " '041',\n",
       " '041 impossible',\n",
       " '048',\n",
       " '048 mile',\n",
       " '05',\n",
       " '05 10',\n",
       " '05 31',\n",
       " '05 april',\n",
       " '05 country',\n",
       " '05 david',\n",
       " '05 fact',\n",
       " '05 jay',\n",
       " '05 love',\n",
       " '05 second',\n",
       " '05 slovenian',\n",
       " '05 speilburg',\n",
       " '05 unmanned',\n",
       " '05 wild',\n",
       " '05 youd',\n",
       " '050',\n",
       " '050 joke',\n",
       " '06',\n",
       " '06 bob',\n",
       " '06 chose',\n",
       " '06 dont',\n",
       " '06 film',\n",
       " '06 followed',\n",
       " '06 jack',\n",
       " '06 know',\n",
       " '06 nothing',\n",
       " '06 patrick',\n",
       " '06 tough',\n",
       " '06 walt',\n",
       " '06 watched',\n",
       " '06th',\n",
       " '06th saw',\n",
       " '07',\n",
       " '07 2000',\n",
       " '07 2004',\n",
       " '07 fall',\n",
       " '07 fell',\n",
       " '07 ice',\n",
       " '07 ive',\n",
       " '07 kiloton',\n",
       " '07 knew',\n",
       " '07 september',\n",
       " '07 thoroughly',\n",
       " '07 update',\n",
       " '08',\n",
       " '08 10',\n",
       " '08 2009',\n",
       " '08 checked',\n",
       " '08 disliked',\n",
       " '08 either',\n",
       " '08 found',\n",
       " '08 guess',\n",
       " '08 he',\n",
       " '08 john',\n",
       " '087',\n",
       " '087 sorter',\n",
       " '089',\n",
       " '089 footlight',\n",
       " '089 still',\n",
       " '08th',\n",
       " '08th team',\n",
       " '09',\n",
       " '09 01',\n",
       " '09 08',\n",
       " '09 15',\n",
       " '09 correction',\n",
       " '09 dw',\n",
       " '09 since',\n",
       " '09 viewing',\n",
       " '0f',\n",
       " '0f 10',\n",
       " '0ne',\n",
       " '0ne fact',\n",
       " '0r',\n",
       " '0r maybe',\n",
       " '0when',\n",
       " '0when new',\n",
       " '10',\n",
       " '10 06',\n",
       " '10 0r',\n",
       " '10 10',\n",
       " '10 100',\n",
       " '10 10seek',\n",
       " '10 10this',\n",
       " '10 11',\n",
       " '10 12',\n",
       " '10 13',\n",
       " '10 14',\n",
       " '10 15',\n",
       " '10 17',\n",
       " '10 18',\n",
       " '10 1912',\n",
       " '10 1978',\n",
       " '10 1979',\n",
       " '10 1990',\n",
       " '10 20',\n",
       " '10 2000',\n",
       " '10 20000',\n",
       " '10 2002',\n",
       " '10 2005',\n",
       " '10 2007',\n",
       " '10 21',\n",
       " '10 25',\n",
       " '10 28',\n",
       " '10 29',\n",
       " '10 2dont',\n",
       " '10 30',\n",
       " '10 31',\n",
       " '10 40',\n",
       " '10 6th',\n",
       " '10 70',\n",
       " '10 80',\n",
       " '10 84',\n",
       " '10 abhorrent',\n",
       " '10 absolute',\n",
       " '10 absolutely',\n",
       " '10 abysmal',\n",
       " '10 academic',\n",
       " '10 accent',\n",
       " '10 account',\n",
       " '10 across',\n",
       " '10 acting',\n",
       " '10 acting3',\n",
       " '10 actingmy',\n",
       " '10 actor',\n",
       " '10 actual',\n",
       " '10 actually',\n",
       " '10 add',\n",
       " '10 admit',\n",
       " '10 affect',\n",
       " '10 age',\n",
       " '10 aged',\n",
       " '10 agent',\n",
       " '10 agree',\n",
       " '10 ahista',\n",
       " '10 akin',\n",
       " '10 album',\n",
       " '10 alliance',\n",
       " '10 allowed',\n",
       " '10 almost',\n",
       " '10 also',\n",
       " '10 altogether',\n",
       " '10 always',\n",
       " '10 amazing',\n",
       " '10 among',\n",
       " '10 ample',\n",
       " '10 animals',\n",
       " '10 animation',\n",
       " '10 annoys',\n",
       " '10 another',\n",
       " '10 anyone',\n",
       " '10 anything',\n",
       " '10 ap3',\n",
       " '10 apricot',\n",
       " '10 army',\n",
       " '10 art',\n",
       " '10 ask',\n",
       " '10 atlantis',\n",
       " '10 atmosphere',\n",
       " '10 attention',\n",
       " '10 attracted',\n",
       " '10 average',\n",
       " '10 avoid',\n",
       " '10 awesome',\n",
       " '10 awful',\n",
       " '10 ayers',\n",
       " '10 bad',\n",
       " '10 bah',\n",
       " '10 barely',\n",
       " '10 barky',\n",
       " '10 based',\n",
       " '10 basically',\n",
       " '10 battle',\n",
       " '10 beauty',\n",
       " '10 become',\n",
       " '10 becuz',\n",
       " '10 beer',\n",
       " '10 begin',\n",
       " '10 believe',\n",
       " '10 best',\n",
       " '10 bethany',\n",
       " '10 better',\n",
       " '10 beyond',\n",
       " '10 big',\n",
       " '10 bit',\n",
       " '10 bizarre',\n",
       " '10 blame',\n",
       " '10 bleah',\n",
       " '10 bloody',\n",
       " '10 blow',\n",
       " '10 bo',\n",
       " '10 bonus',\n",
       " '10 boogeyman',\n",
       " '10 book',\n",
       " '10 boring',\n",
       " '10 bos',\n",
       " '10 bought',\n",
       " '10 brain',\n",
       " '10 branagh',\n",
       " '10 bravo',\n",
       " '10 breast',\n",
       " '10 breeze',\n",
       " '10 brilliant',\n",
       " '10 british',\n",
       " '10 broken',\n",
       " '10 brought',\n",
       " '10 btw',\n",
       " '10 buck',\n",
       " '10 bullseye',\n",
       " '10 butdont',\n",
       " '10 call',\n",
       " '10 cameo',\n",
       " '10 camera',\n",
       " '10 cannot',\n",
       " '10 cant',\n",
       " '10 car',\n",
       " '10 carlitos',\n",
       " '10 cast',\n",
       " '10 casted',\n",
       " '10 catastrophic',\n",
       " '10 catching',\n",
       " '10 cause',\n",
       " '10 celebration',\n",
       " '10 cent',\n",
       " '10 certainly',\n",
       " '10 cg',\n",
       " '10 channel',\n",
       " '10 character',\n",
       " '10 check',\n",
       " '10 cheese',\n",
       " '10 cheesiness',\n",
       " '10 cheesy',\n",
       " '10 chess',\n",
       " '10 choreography',\n",
       " '10 cinematography',\n",
       " '10 clark',\n",
       " '10 clearly',\n",
       " '10 clichxc3xa9s',\n",
       " '10 clive',\n",
       " '10 closeup',\n",
       " '10 co',\n",
       " '10 colins',\n",
       " '10 collection',\n",
       " '10 come',\n",
       " '10 comedy',\n",
       " '10 commandment',\n",
       " '10 compared',\n",
       " '10 comparison',\n",
       " '10 complete',\n",
       " '10 completely',\n",
       " '10 component',\n",
       " '10 concept',\n",
       " '10 consider',\n",
       " '10 considering',\n",
       " '10 consisted',\n",
       " '10 cost',\n",
       " '10 costume',\n",
       " '10 could',\n",
       " '10 couldnt',\n",
       " '10 counting',\n",
       " '10 course',\n",
       " '10 crappiness',\n",
       " '10 created',\n",
       " '10 creed',\n",
       " '10 crouch',\n",
       " '10 crowd',\n",
       " '10 cunningham',\n",
       " '10 dare',\n",
       " '10 daring',\n",
       " '10 daughter',\n",
       " '10 davis',\n",
       " '10 day',\n",
       " '10 deadern',\n",
       " '10 december',\n",
       " '10 definitely',\n",
       " '10 defy',\n",
       " '10 deleted',\n",
       " '10 denzel',\n",
       " '10 depending',\n",
       " '10 der',\n",
       " '10 deranged',\n",
       " '10 derboiler',\n",
       " '10 deserves',\n",
       " '10 devil',\n",
       " '10 devoted',\n",
       " '10 dialogue',\n",
       " '10 didnt',\n",
       " '10 different',\n",
       " '10 dil',\n",
       " '10 dir',\n",
       " '10 direction',\n",
       " '10 director',\n",
       " '10 disgusting',\n",
       " '10 disney',\n",
       " '10 display',\n",
       " '10 displaying',\n",
       " '10 disproportionate',\n",
       " '10 doc',\n",
       " '10 doesnt',\n",
       " '10 dollar',\n",
       " '10 done',\n",
       " '10 dont',\n",
       " '10 doubt',\n",
       " '10 downing',\n",
       " '10 downside',\n",
       " '10 dr',\n",
       " '10 drama',\n",
       " '10 dreadful',\n",
       " '10 dream',\n",
       " '10 driving',\n",
       " '10 dudley',\n",
       " '10 due',\n",
       " '10 dvd',\n",
       " '10 dw',\n",
       " '10 earns',\n",
       " '10 effect',\n",
       " '10 effort',\n",
       " '10 eg',\n",
       " '10 egg',\n",
       " '10 either',\n",
       " '10 elephant',\n",
       " '10 eliason',\n",
       " '10 employee',\n",
       " '10 encourage',\n",
       " '10 end',\n",
       " '10 ended',\n",
       " '10 ending',\n",
       " '10 enjoyable',\n",
       " '10 enormous',\n",
       " '10 enough',\n",
       " '10 entertaining',\n",
       " '10 entertainment',\n",
       " '10 episode',\n",
       " '10 episodic',\n",
       " '10 equated',\n",
       " '10 equivalent',\n",
       " '10 etc',\n",
       " '10 even',\n",
       " '10 every',\n",
       " '10 everything',\n",
       " '10 example',\n",
       " '10 excellent',\n",
       " '10 existing',\n",
       " '10 explanation',\n",
       " '10 extremely',\n",
       " '10 face',\n",
       " '10 fact',\n",
       " '10 failure',\n",
       " '10 fair',\n",
       " '10 family',\n",
       " '10 fan',\n",
       " '10 fantastic',\n",
       " '10 far',\n",
       " '10 fault',\n",
       " '10 fav',\n",
       " '10 favor',\n",
       " '10 favorite',\n",
       " '10 feature',\n",
       " '10 fed',\n",
       " '10 feel',\n",
       " '10 feeling',\n",
       " '10 fiend',\n",
       " '10 fifth',\n",
       " '10 film',\n",
       " '10 filmography',\n",
       " '10 filmometer',\n",
       " '10 final',\n",
       " '10 fine',\n",
       " '10 first',\n",
       " '10 firstand',\n",
       " '10 five',\n",
       " '10 flippantly',\n",
       " '10 following',\n",
       " '10 foot',\n",
       " '10 found',\n",
       " '10 four',\n",
       " '10 fourth',\n",
       " '10 freddys',\n",
       " '10 friend',\n",
       " '10 ft',\n",
       " '10 fun',\n",
       " '10 funny',\n",
       " '10 gackt',\n",
       " '10 gang',\n",
       " '10 garbage',\n",
       " '10 gave',\n",
       " '10 generously',\n",
       " '10 genetic',\n",
       " '10 get',\n",
       " '10 girl',\n",
       " '10 give',\n",
       " '10 given',\n",
       " '10 giving',\n",
       " '10 go',\n",
       " '10 god',\n",
       " '10 going',\n",
       " '10 golden',\n",
       " '10 good',\n",
       " '10 gorgeous',\n",
       " '10 got',\n",
       " '10 grade',\n",
       " '10 grand',\n",
       " '10 graphic',\n",
       " '10 great',\n",
       " '10 greek',\n",
       " '10 grenade',\n",
       " '10 grisham',\n",
       " '10 groundhog',\n",
       " '10 grudge',\n",
       " '10 guess',\n",
       " '10 guilty',\n",
       " '10 guinea',\n",
       " '10 guise',\n",
       " '10 guy',\n",
       " '10 hadnt',\n",
       " '10 hand',\n",
       " '10 hang',\n",
       " '10 happened',\n",
       " '10 happy',\n",
       " '10 hardcore',\n",
       " '10 hardly',\n",
       " '10 harmful',\n",
       " '10 hassie',\n",
       " '10 havent',\n",
       " '10 head',\n",
       " '10 heartfelt',\n",
       " '10 help',\n",
       " '10 here',\n",
       " '10 hidden',\n",
       " '10 high',\n",
       " '10 highest',\n",
       " '10 highly',\n",
       " '10 hilarious',\n",
       " '10 hit',\n",
       " '10 hmmmm',\n",
       " '10 hollywood',\n",
       " '10 honesty',\n",
       " '10 hope',\n",
       " '10 hopefully',\n",
       " '10 horrible',\n",
       " '10 horror',\n",
       " '10 hottest',\n",
       " '10 hour',\n",
       " '10 houseboat',\n",
       " '10 however',\n",
       " '10 http',\n",
       " '10 hulkamaniacs',\n",
       " '10 hype',\n",
       " '10 iam',\n",
       " '10 id',\n",
       " '10 idea',\n",
       " '10 ie',\n",
       " '10 ignorant',\n",
       " '10 ignored',\n",
       " '10 ill',\n",
       " '10 im',\n",
       " '10 imdb',\n",
       " '10 immediately',\n",
       " '10 important',\n",
       " '10 improvement',\n",
       " '10 inadvertently',\n",
       " '10 inch',\n",
       " '10 including',\n",
       " '10 incredibly',\n",
       " '10 indemnity',\n",
       " '10 independent',\n",
       " '10 indian',\n",
       " '10 individual',\n",
       " '10 information',\n",
       " '10 insipid',\n",
       " '10 inspiring',\n",
       " '10 instead',\n",
       " '10 intense',\n",
       " '10 interesting',\n",
       " '10 involves',\n",
       " '10 iq',\n",
       " '10 isnt',\n",
       " '10 italian',\n",
       " '10 item',\n",
       " '10 itxc2xb4d',\n",
       " '10 ive',\n",
       " '10 jackson',\n",
       " '10 james',\n",
       " '10 jaw',\n",
       " '10 joke',\n",
       " '10 judge',\n",
       " '10 judging',\n",
       " '10 kept',\n",
       " '10 key',\n",
       " '10 kid',\n",
       " '10 killing',\n",
       " '10 kind',\n",
       " '10 knew',\n",
       " '10 know',\n",
       " '10 la',\n",
       " '10 lacy',\n",
       " '10 lame',\n",
       " '10 last',\n",
       " '10 laughed',\n",
       " '10 laurel',\n",
       " '10 ld',\n",
       " '10 le',\n",
       " '10 least',\n",
       " '10 left',\n",
       " '10 legendary',\n",
       " '10 let',\n",
       " '10 level',\n",
       " '10 lightly',\n",
       " '10 like',\n",
       " '10 liked',\n",
       " '10 limping',\n",
       " '10 line',\n",
       " '10 lisa',\n",
       " '10 list',\n",
       " '10 listen',\n",
       " '10 little',\n",
       " '10 long',\n",
       " '10 look',\n",
       " '10 looked',\n",
       " '10 looking',\n",
       " '10 love',\n",
       " '10 loved',\n",
       " '10 lover',\n",
       " '10 low',\n",
       " '10 lowest',\n",
       " '10 lucky',\n",
       " '10 lying',\n",
       " '10 m4tv',\n",
       " '10 machine',\n",
       " '10 mada',\n",
       " '10 made',\n",
       " '10 mainly',\n",
       " '10 major',\n",
       " '10 many',\n",
       " '10 marla',\n",
       " '10 master',\n",
       " '10 match',\n",
       " '10 max',\n",
       " '10 may',\n",
       " '10 maybe',\n",
       " '10 mean',\n",
       " '10 meaning',\n",
       " '10 measure',\n",
       " '10 meat',\n",
       " '10 mediocre',\n",
       " '10 melodramatic',\n",
       " '10 men',\n",
       " '10 mention',\n",
       " '10 merely',\n",
       " '10 meter',\n",
       " '10 midnight',\n",
       " '10 might',\n",
       " '10 mile',\n",
       " '10 million',\n",
       " '10 min',\n",
       " '10 mini',\n",
       " '10 minno',\n",
       " '10 minus',\n",
       " '10 minute',\n",
       " '10 misc',\n",
       " '10 missed',\n",
       " '10 modern',\n",
       " '10 molly',\n",
       " '10 montague',\n",
       " '10 month',\n",
       " '10 mood',\n",
       " '10 moronic',\n",
       " '10 mostly',\n",
       " '10 mouse',\n",
       " '10 movie',\n",
       " '10 much',\n",
       " '10 multiplayer',\n",
       " '10 music',\n",
       " '10 must',\n",
       " '10 mustve',\n",
       " '10 n64',\n",
       " '10 nb',\n",
       " '10 near',\n",
       " '10 need',\n",
       " '10 needed',\n",
       " '10 neglect',\n",
       " '10 new',\n",
       " '10 newspaper',\n",
       " '10 nice',\n",
       " '10 nightmare',\n",
       " '10 noirometer',\n",
       " '10 nomination',\n",
       " '10 non',\n",
       " '10 nostalgia',\n",
       " '10 nothing',\n",
       " '10 notorious',\n",
       " '10 nudity',\n",
       " '10 objectionable',\n",
       " '10 objectively',\n",
       " '10 obviously',\n",
       " '10 occasional',\n",
       " '10 oclock',\n",
       " '10 odd',\n",
       " '10 of',\n",
       " '10 offer',\n",
       " '10 oh',\n",
       " '10 okay',\n",
       " '10 older',\n",
       " '10 one',\n",
       " '10 operative',\n",
       " '10 opinion',\n",
       " '10 opinionstephen',\n",
       " '10 option',\n",
       " '10 order',\n",
       " '10 original',\n",
       " '10 originally',\n",
       " '10 oscar',\n",
       " '10 others',\n",
       " '10 otto',\n",
       " '10 outstanding',\n",
       " '10 overall',\n",
       " '10 overestimate',\n",
       " '10 overly',\n",
       " '10 ozjeppe',\n",
       " '10 pack',\n",
       " '10 page',\n",
       " '10 parent',\n",
       " '10 parking',\n",
       " '10 partner',\n",
       " '10 pathetic',\n",
       " '10 patiently',\n",
       " '10 peace',\n",
       " '10 pedantic',\n",
       " '10 people',\n",
       " '10 percent',\n",
       " '10 perfect',\n",
       " '10 perfection',\n",
       " '10 perfectionist',\n",
       " '10 perfectness',\n",
       " '10 perhaps',\n",
       " '10 peter',\n",
       " '10 phoniness',\n",
       " '10 photography',\n",
       " '10 photograpy',\n",
       " '10 picking',\n",
       " '10 pilger',\n",
       " '10 pint',\n",
       " '10 plan',\n",
       " '10 plenty',\n",
       " '10 plot',\n",
       " '10 plus',\n",
       " '10 point',\n",
       " '10 poo',\n",
       " '10 popular',\n",
       " '10 possible',\n",
       " '10 possibleunbelievable',\n",
       " '10 possibly',\n",
       " '10 potential',\n",
       " '10 pound',\n",
       " '10 prefer',\n",
       " '10 preity',\n",
       " '10 pretentious',\n",
       " '10 pretty',\n",
       " '10 previous',\n",
       " '10 probably',\n",
       " '10 problem',\n",
       " '10 production',\n",
       " '10 promise',\n",
       " '10 promo',\n",
       " '10 protest',\n",
       " '10 psif',\n",
       " '10 public',\n",
       " '10 pure',\n",
       " '10 purely',\n",
       " '10 push',\n",
       " '10 put',\n",
       " '10 quality',\n",
       " '10 quartier',\n",
       " '10 question',\n",
       " '10 quid',\n",
       " '10 quite',\n",
       " '10 ranking',\n",
       " '10 rare',\n",
       " '10 rate',\n",
       " '10 rated',\n",
       " '10 rating',\n",
       " '10 ratio',\n",
       " '10 real',\n",
       " '10 really',\n",
       " '10 reason',\n",
       " '10 rebel',\n",
       " '10 recent',\n",
       " '10 recommend',\n",
       " '10 redeeming',\n",
       " '10 registered',\n",
       " '10 regular',\n",
       " '10 reluctance',\n",
       " '10 remarking',\n",
       " '10 remember',\n",
       " '10 rent',\n",
       " '10 replay',\n",
       " '10 replayable',\n",
       " '10 replayable7',\n",
       " '10 reserving',\n",
       " '10 respectively',\n",
       " '10 rest',\n",
       " '10 resulting',\n",
       " '10 revenge',\n",
       " '10 review',\n",
       " '10 richard',\n",
       " '10 right',\n",
       " '10 rjt',\n",
       " '10 rock',\n",
       " '10 role',\n",
       " '10 romantic',\n",
       " '10 room',\n",
       " '10 rounded',\n",
       " '10 sadly',\n",
       " '10 said',\n",
       " '10 sam',\n",
       " '10 santa',\n",
       " '10 sap',\n",
       " '10 save',\n",
       " '10 saw',\n",
       " '10 say',\n",
       " '10 scale',\n",
       " '10 scariest',\n",
       " '10 scary',\n",
       " '10 scene',\n",
       " '10 score',\n",
       " '10 screen',\n",
       " '10 screenplay',\n",
       " '10 screw',\n",
       " '10 script',\n",
       " '10 season',\n",
       " '10 second',\n",
       " '10 secondly',\n",
       " '10 see',\n",
       " '10 seeing',\n",
       " '10 seem',\n",
       " '10 seems',\n",
       " '10 seen',\n",
       " '10 segment',\n",
       " '10 sentence',\n",
       " '10 sentencebut',\n",
       " '10 seriously',\n",
       " '10 set',\n",
       " '10 seventh',\n",
       " '10 sexual',\n",
       " '10 shame',\n",
       " '10 sheer',\n",
       " '10 ship',\n",
       " '10 short',\n",
       " '10 shot',\n",
       " '10 show',\n",
       " '10 shy',\n",
       " '10 side',\n",
       " '10 simon',\n",
       " '10 simple',\n",
       " '10 simply',\n",
       " '10 sinatra',\n",
       " '10 since',\n",
       " '10 sinking',\n",
       " '10 site',\n",
       " '10 sixth',\n",
       " '10 slightly',\n",
       " '10 slows',\n",
       " '10 smile',\n",
       " '10 smith',\n",
       " '10 snooze',\n",
       " '10 social',\n",
       " '10 society',\n",
       " '10 solely',\n",
       " '10 somebody',\n",
       " '10 someone',\n",
       " '10 something',\n",
       " '10 sometimes',\n",
       " '10 song',\n",
       " '10 soo',\n",
       " '10 sorry',\n",
       " '10 sound',\n",
       " '10 spaceys',\n",
       " '10 special',\n",
       " '10 speed',\n",
       " '10 spoiler',\n",
       " '10 spy',\n",
       " '10 standard',\n",
       " '10 star',\n",
       " '10 starsand',\n",
       " '10 status',\n",
       " '10 step',\n",
       " '10 still',\n",
       " '10 stinker',\n",
       " '10 story',\n",
       " '10 storyline',\n",
       " '10 streep',\n",
       " '10 strictly',\n",
       " '10 strong',\n",
       " '10 strongly',\n",
       " '10 stunning',\n",
       " '10 subjectively',\n",
       " '10 sublime',\n",
       " '10 suffice',\n",
       " '10 suggestion',\n",
       " '10 superbly',\n",
       " '10 supposed',\n",
       " '10 sure',\n",
       " '10 surmise',\n",
       " '10 surprised',\n",
       " '10 suspense',\n",
       " '10 syed',\n",
       " '10 synchronous',\n",
       " '10 sysnuk3r',\n",
       " '10 take',\n",
       " '10 taken',\n",
       " '10 talk',\n",
       " '10 technical',\n",
       " '10 teen',\n",
       " '10 tell',\n",
       " '10 tempted',\n",
       " '10 ten',\n",
       " '10 tend',\n",
       " '10 tending',\n",
       " '10 terriblesillystupid',\n",
       " '10 thank',\n",
       " '10 thats',\n",
       " '10 thealbeit',\n",
       " '10 there',\n",
       " '10 thing',\n",
       " '10 think',\n",
       " '10 third',\n",
       " '10 thiss',\n",
       " '10 though',\n",
       " '10 thought',\n",
       " '10 thousand',\n",
       " '10 three',\n",
       " '10 threw',\n",
       " '10 thumb',\n",
       " '10 tiger',\n",
       " '10 time',\n",
       " '10 top',\n",
       " '10 total',\n",
       " '10 totally',\n",
       " '10 tothe',\n",
       " '10 tripping',\n",
       " '10 triumphant',\n",
       " '10 true',\n",
       " '10 truly',\n",
       " '10 trust',\n",
       " '10 try',\n",
       " '10 trying',\n",
       " '10 turd',\n",
       " '10 tv',\n",
       " '10 twist',\n",
       " '10 two',\n",
       " '10 umneys',\n",
       " '10 unachieved',\n",
       " '10 uncle',\n",
       " '10 undertaker',\n",
       " '10 unedited',\n",
       " '10 unfortunate',\n",
       " '10 unintentional',\n",
       " '10 unnecessary',\n",
       " '10 unwatchable',\n",
       " '10 updated',\n",
       " '10 urge',\n",
       " '10 used',\n",
       " '10 utterly',\n",
       " '10 viewed',\n",
       " '10 viewer',\n",
       " '10 villain',\n",
       " '10 viper',\n",
       " '10 voluntarily',\n",
       " '10 vote',\n",
       " '10 voter',\n",
       " '10 voting',\n",
       " '10 want',\n",
       " '10 wasnt',\n",
       " '10 waste',\n",
       " '10 watch',\n",
       " '10 watched',\n",
       " '10 way',\n",
       " '10 weasel',\n",
       " '10 well',\n",
       " '10 welles',\n",
       " '10 werent',\n",
       " ...]"
      ]
     },
     "execution_count": 10,
     "metadata": {},
     "output_type": "execute_result"
    }
   ],
   "source": [
    "# Take a look at the vocabulary\n",
    "wordslookingfor = bw_vectorizer.get_feature_names()\n",
    "wordslookingfor"
   ]
  },
  {
   "cell_type": "code",
   "execution_count": 11,
   "metadata": {},
   "outputs": [
    {
     "name": "stdout",
     "output_type": "stream",
     "text": [
      "84.64\n"
     ]
    }
   ],
   "source": [
    "#Random Forest using Bag of words\n",
    "rfc = RandomForestClassifier(n_estimators = 100)\n",
    "rfc.fit(X_train, y_train)\n",
    "preds = rfc.predict(X_test)\n",
    "score = accuracy_score(y_test,preds)*100\n",
    "print(score)"
   ]
  },
  {
   "cell_type": "code",
   "execution_count": 12,
   "metadata": {},
   "outputs": [
    {
     "name": "stdout",
     "output_type": "stream",
     "text": [
      "87.86666666666667\n"
     ]
    }
   ],
   "source": [
    "#Navie Bayes using Bag of words\n",
    "nbc = MultinomialNB()\n",
    "nbc.fit(X_train, y_train)\n",
    "preds = nbc.predict(X_test)\n",
    "score = accuracy_score(y_test,preds)*100\n",
    "print(score)"
   ]
  },
  {
   "cell_type": "code",
   "execution_count": 13,
   "metadata": {},
   "outputs": [
    {
     "name": "stdout",
     "output_type": "stream",
     "text": [
      "88.57333333333334\n"
     ]
    }
   ],
   "source": [
    "#Logistic Regression using Bag of words\n",
    "LRModel = LogisticRegression(max_iter=1000)\n",
    "LRModel.fit(X_train, y_train)\n",
    "preds = LRModel.predict(X_test)\n",
    "score = accuracy_score(y_test,preds)*100\n",
    "print(score)"
   ]
  },
  {
   "cell_type": "code",
   "execution_count": 14,
   "metadata": {},
   "outputs": [
    {
     "name": "stdout",
     "output_type": "stream",
     "text": [
      "Accuracy for C= 0.01 is 88.52\n",
      "Accuracy for C= 0.25 is 88.22666666666666\n",
      "Accuracy for C= 0.5 is 88.2\n",
      "Accuracy for C= 1 is 88.14666666666666\n"
     ]
    }
   ],
   "source": [
    "#SVC using Bag of words\n",
    "@ignore_warnings(category=ConvergenceWarning)\n",
    "def svc():\n",
    "    #SVC Model using Bag of words\n",
    "    for i in [0.01, 0.25, 0.5, 1]:\n",
    "        svc = LinearSVC(C=i)\n",
    "        svc.fit(X_train, y_train)\n",
    "        preds = svc.predict(X_test)\n",
    "        print (\"Accuracy for C=\",i,\"is\",accuracy_score(y_test, preds)*100)\n",
    "svc()"
   ]
  },
  {
   "cell_type": "code",
   "execution_count": 15,
   "metadata": {},
   "outputs": [
    {
     "name": "stdout",
     "output_type": "stream",
     "text": [
      "LR Mean Accuracy: 88.38476% +/-(0.00551)\n",
      "LinearSVC Mean Accuracy: 88.34476% +/-(0.00592)\n"
     ]
    },
    {
     "data": {
      "image/png": "[encoded data removed]",
      "text/plain": [
       "<Figure size 432x288 with 1 Axes>"
      ]
     },
     "metadata": {
      "needs_background": "light"
     },
     "output_type": "display_data"
    }
   ],
   "source": [
    "# evaluate model\n",
    "LR = LogisticRegression(max_iter=1000)\n",
    "cv1 = RepeatedStratifiedKFold(n_splits = 10, n_repeats = 3, random_state = 1)\n",
    "scores1 = cross_val_score(LR, X_train, y_train, scoring = 'accuracy', cv = cv1, n_jobs = -1)\n",
    "print('LR Mean Accuracy: %.5f%% +/-(%.5f)' % ((scores1*100).mean(), (scores1).std()))\n",
    "# evaluate model\n",
    "SVC = LinearSVC(C=0.01)\n",
    "cv2 = RepeatedStratifiedKFold(n_splits = 10, n_repeats = 3, random_state = 1)\n",
    "scores3 = cross_val_score(SVC, X_train, y_train, scoring = 'accuracy', cv = cv2, n_jobs = -1)\n",
    "print('LinearSVC Mean Accuracy: %.5f%% +/-(%.5f)' % ((scores3*100).mean(), (scores3).std()))\n",
    "# plot the results\n",
    "plt.boxplot([scores1, scores3], labels=['LR', 'SVC'], showmeans=True)\n",
    "plt.show()"
   ]
  },
  {
   "cell_type": "code",
   "execution_count": 16,
   "metadata": {},
   "outputs": [
    {
     "name": "stdout",
     "output_type": "stream",
     "text": [
      "The P-value is = 0.470\n",
      "The t-statistics is = -0.782\n",
      "Since p>0.05, we cannot reject the null hypothesis and may conclude that the performance of the two algorithms is not significantly different.\n"
     ]
    }
   ],
   "source": [
    "from mlxtend.evaluate import paired_ttest_5x2cv\n",
    "# check if difference between algorithms is real\n",
    "t, p = paired_ttest_5x2cv(estimator1=LR, \n",
    "                          estimator2=SVC, \n",
    "                          X=X_train, \n",
    "                          y=y_train, \n",
    "                          scoring='accuracy',\n",
    "                          random_seed=1)\n",
    "# summarize\n",
    "print(f'The P-value is = {p:.3f}')\n",
    "print(f'The t-statistics is = {t:.3f}')\n",
    "# interpret the result\n",
    "if p <= 0.05:\n",
    "    print('Since p<0.05, We can reject the null-hypothesis that both models perform equally well on this dataset. We may conclude that the two algorithms are significantly different.')\n",
    "else:\n",
    "    print('Since p>0.05, we cannot reject the null hypothesis and may conclude that the performance of the two algorithms is not significantly different.')"
   ]
  },
  {
   "cell_type": "code",
   "execution_count": 17,
   "metadata": {},
   "outputs": [
    {
     "name": "stdout",
     "output_type": "stream",
     "text": [
      "Final Accuracy: 88.712\n"
     ]
    }
   ],
   "source": [
    "#From the above 3 models, we got good accuracy for SVC model. So, applying the total data on SVC Model and predecting the sentiment\n",
    "svcModel = LinearSVC(C=0.01)\n",
    "svcModel.fit(train_bw, train.sentiment)\n",
    "print (\"Final Accuracy:\",accuracy_score(test.sentiment, svcModel.predict(test_bw))*100)"
   ]
  },
  {
   "cell_type": "code",
   "execution_count": 18,
   "metadata": {},
   "outputs": [
    {
     "name": "stdout",
     "output_type": "stream",
     "text": [
      "Classification Report:\n",
      "\n",
      "              precision    recall  f1-score   support\n",
      "\n",
      "    Positive       0.89      0.88      0.89     12500\n",
      "    Negative       0.88      0.89      0.89     12500\n",
      "\n",
      "    accuracy                           0.89     25000\n",
      "   macro avg       0.89      0.89      0.89     25000\n",
      "weighted avg       0.89      0.89      0.89     25000\n",
      "\n",
      "Confusion Matrix:\n",
      "\n",
      "[[11167  1333]\n",
      " [ 1489 11011]]\n"
     ]
    }
   ],
   "source": [
    "#Classification report for count vectorized features\n",
    "lsvc_cv_report=classification_report(test.sentiment,svcModel.predict(test_bw),target_names=['Positive','Negative'])\n",
    "print(\"Classification Report:\\n\")\n",
    "print(lsvc_cv_report)\n",
    "\n",
    "#confusion matrix for count vectorized features\n",
    "lsvc_cv_cm=confusion_matrix(test.sentiment,svcModel.predict(test_bw),labels=[1,0])\n",
    "print(\"Confusion Matrix:\\n\")\n",
    "print(lsvc_cv_cm)"
   ]
  },
  {
   "cell_type": "code",
   "execution_count": 19,
   "metadata": {},
   "outputs": [
    {
     "name": "stdout",
     "output_type": "stream",
     "text": [
      "AUC: 0.88712\n"
     ]
    },
    {
     "data": {
      "image/png": "[encoded data removed]",
      "text/plain": [
       "<Figure size 432x288 with 1 Axes>"
      ]
     },
     "metadata": {
      "needs_background": "light"
     },
     "output_type": "display_data"
    }
   ],
   "source": [
    "fpr, tpr, _ = roc_curve(test.sentiment, svcModel.predict(test_bw))\n",
    "roc_auc = auc(fpr, tpr)\n",
    "print('AUC:', roc_auc)\n",
    "plt.plot(fpr, tpr)\n",
    "plt.title(\"SVC Model with Bag of words\")\n",
    "plt.plot([0, 1], [0, 1], color='navy', linestyle='--')\n",
    "plt.xlabel('False Positive Rate')\n",
    "plt.ylabel('True Positive Rate')\n",
    "plt.show()"
   ]
  },
  {
   "cell_type": "code",
   "execution_count": null,
   "metadata": {},
   "outputs": [],
   "source": []
  },
  {
   "cell_type": "code",
   "execution_count": 20,
   "metadata": {},
   "outputs": [
    {
     "name": "stdout",
     "output_type": "stream",
     "text": [
      "Final Accuracy: 88.716\n"
     ]
    }
   ],
   "source": [
    "lrModel = LogisticRegression(max_iter=1000)\n",
    "lrModel.fit(train_bw, train.sentiment)\n",
    "print (\"Final Accuracy:\",accuracy_score(test.sentiment, lrModel.predict(test_bw))*100)"
   ]
  },
  {
   "cell_type": "code",
   "execution_count": 21,
   "metadata": {},
   "outputs": [
    {
     "name": "stdout",
     "output_type": "stream",
     "text": [
      "Classification Report:\n",
      "\n",
      "              precision    recall  f1-score   support\n",
      "\n",
      "    Positive       0.89      0.88      0.89     12500\n",
      "    Negative       0.88      0.89      0.89     12500\n",
      "\n",
      "    accuracy                           0.89     25000\n",
      "   macro avg       0.89      0.89      0.89     25000\n",
      "weighted avg       0.89      0.89      0.89     25000\n",
      "\n",
      "Confusion Matrix:\n",
      "\n",
      "[[11167  1333]\n",
      " [ 1489 11011]]\n"
     ]
    }
   ],
   "source": [
    "#Classification report for count vectorized features\n",
    "lr_cv_report=classification_report(test.sentiment,svcModel.predict(test_bw),target_names=['Positive','Negative'])\n",
    "print(\"Classification Report:\\n\")\n",
    "print(lr_cv_report)\n",
    "\n",
    "#confusion matrix for count vectorized features\n",
    "lr_cv_cm=confusion_matrix(test.sentiment,svcModel.predict(test_bw),labels=[1,0])\n",
    "print(\"Confusion Matrix:\\n\")\n",
    "print(lr_cv_cm)"
   ]
  },
  {
   "cell_type": "code",
   "execution_count": 22,
   "metadata": {},
   "outputs": [
    {
     "name": "stdout",
     "output_type": "stream",
     "text": [
      "AUC: 0.88712\n"
     ]
    },
    {
     "data": {
      "image/png": "[encoded data removed]",
      "text/plain": [
       "<Figure size 432x288 with 1 Axes>"
      ]
     },
     "metadata": {
      "needs_background": "light"
     },
     "output_type": "display_data"
    }
   ],
   "source": [
    "fpr, tpr, _ = roc_curve(test.sentiment, svcModel.predict(test_bw))\n",
    "roc_auc = auc(fpr, tpr)\n",
    "print('AUC:', roc_auc)\n",
    "plt.plot(fpr, tpr)\n",
    "plt.title(\"LR Model with Bag of words\")\n",
    "plt.plot([0, 1], [0, 1], color='navy', linestyle='--')\n",
    "plt.xlabel('False Positive Rate')\n",
    "plt.ylabel('True Positive Rate')\n",
    "plt.show()"
   ]
  },
  {
   "cell_type": "code",
   "execution_count": 23,
   "metadata": {},
   "outputs": [],
   "source": [
    "#Using TFIDF Vectorizer\n",
    "tdidfVect = TfidfVectorizer()\n",
    "tdidfVect.fit(train.review)\n",
    "tdfTrain = tdidfVect.transform(train.review)\n",
    "tdfTest = tdidfVect.transform(test.review)"
   ]
  },
  {
   "cell_type": "code",
   "execution_count": 24,
   "metadata": {},
   "outputs": [],
   "source": [
    "# Split data to test preprocessing and modeling techniques\n",
    "X_train, X_test, y_train, y_test = train_test_split(tdfTrain, train.sentiment, test_size=0.3)"
   ]
  },
  {
   "cell_type": "code",
   "execution_count": 25,
   "metadata": {},
   "outputs": [
    {
     "name": "stdout",
     "output_type": "stream",
     "text": [
      "84.72\n"
     ]
    }
   ],
   "source": [
    "#Predecting the sentiment using Random Forest Model\n",
    "rfc = RandomForestClassifier(n_estimators = 100)\n",
    "rfc.fit(X_train, y_train)\n",
    "preds = rfc.predict(X_test)\n",
    "score = accuracy_score(y_test,preds)*100\n",
    "print(score)"
   ]
  },
  {
   "cell_type": "code",
   "execution_count": 26,
   "metadata": {},
   "outputs": [
    {
     "name": "stdout",
     "output_type": "stream",
     "text": [
      "86.13333333333333\n"
     ]
    }
   ],
   "source": [
    "#Predecting the sentiment using Navie Bayes Model\n",
    "nbc = MultinomialNB()\n",
    "nbc.fit(X_train, y_train)\n",
    "preds = nbc.predict(X_test)\n",
    "score = accuracy_score(y_test,preds)*100\n",
    "print(score)"
   ]
  },
  {
   "cell_type": "code",
   "execution_count": 27,
   "metadata": {},
   "outputs": [
    {
     "name": "stdout",
     "output_type": "stream",
     "text": [
      "88.78666666666668\n"
     ]
    }
   ],
   "source": [
    "LRModel = LogisticRegression(max_iter=1000)\n",
    "LRModel.fit(X_train, y_train)\n",
    "preds = LRModel.predict(X_test)\n",
    "score = accuracy_score(y_test,preds)*100\n",
    "print(score)"
   ]
  },
  {
   "cell_type": "code",
   "execution_count": 28,
   "metadata": {},
   "outputs": [
    {
     "name": "stdout",
     "output_type": "stream",
     "text": [
      "Accuracy for C= 0.01 is 0.8566666666666667\n",
      "Accuracy for C= 0.25 is 0.8944\n",
      "Accuracy for C= 0.5 is 0.8921333333333333\n",
      "Accuracy for C= 1 is 0.8910666666666667\n"
     ]
    }
   ],
   "source": [
    "#Predecting the sentiment using SVC Model\n",
    "for i in [0.01, 0.25, 0.5, 1]:\n",
    "    svc = LinearSVC(C=i)\n",
    "    svc.fit(X_train, y_train)\n",
    "    print (\"Accuracy for C=\",i,\"is\",accuracy_score(y_test,svc.predict(X_test)))"
   ]
  },
  {
   "cell_type": "code",
   "execution_count": 29,
   "metadata": {},
   "outputs": [
    {
     "name": "stdout",
     "output_type": "stream",
     "text": [
      "LR Mean Accuracy: 88.25333% +/-(0.00630)\n",
      "LinearSVC Mean Accuracy: 88.87810% +/-(0.00602)\n"
     ]
    },
    {
     "data": {
      "image/png": "[encoded data removed]",
      "text/plain": [
       "<Figure size 432x288 with 1 Axes>"
      ]
     },
     "metadata": {
      "needs_background": "light"
     },
     "output_type": "display_data"
    }
   ],
   "source": [
    "# evaluate model\n",
    "LR = LogisticRegression(max_iter=1000)\n",
    "cv1 = RepeatedStratifiedKFold(n_splits = 10, n_repeats = 3, random_state = 1)\n",
    "scores1 = cross_val_score(LR, X_train, y_train, scoring = 'accuracy', cv = cv1, n_jobs = -1)\n",
    "print('LR Mean Accuracy: %.5f%% +/-(%.5f)' % ((scores1*100).mean(), (scores1).std()))\n",
    "# evaluate model\n",
    "SVC = LinearSVC(C=0.25)\n",
    "cv2 = RepeatedStratifiedKFold(n_splits = 10, n_repeats = 3, random_state = 1)\n",
    "scores3 = cross_val_score(SVC, X_train, y_train, scoring = 'accuracy', cv = cv2, n_jobs = -1)\n",
    "print('LinearSVC Mean Accuracy: %.5f%% +/-(%.5f)' % ((scores3*100).mean(), (scores3).std()))\n",
    "# plot the results\n",
    "plt.boxplot([scores1, scores3], labels=['LR', 'SVC'], showmeans=True)\n",
    "plt.show()"
   ]
  },
  {
   "cell_type": "code",
   "execution_count": 30,
   "metadata": {},
   "outputs": [
    {
     "name": "stdout",
     "output_type": "stream",
     "text": [
      "The P-value is = 0.001\n",
      "The t-statistics is = -7.078\n",
      "Since p<0.05, We can reject the null-hypothesis that both models perform equally well on this dataset. We may conclude that the two algorithms are significantly different.\n"
     ]
    }
   ],
   "source": [
    "from mlxtend.evaluate import paired_ttest_5x2cv\n",
    "# check if difference between algorithms is real\n",
    "t, p = paired_ttest_5x2cv(estimator1=LR, \n",
    "                          estimator2=SVC, \n",
    "                          X=X_train, \n",
    "                          y=y_train, \n",
    "                          scoring='accuracy',\n",
    "                          random_seed=1)\n",
    "# summarize\n",
    "print(f'The P-value is = {p:.3f}')\n",
    "print(f'The t-statistics is = {t:.3f}')\n",
    "# interpret the result\n",
    "if p <= 0.05:\n",
    "    print('Since p<0.05, We can reject the null-hypothesis that both models perform equally well on this dataset. We may conclude that the two algorithms are significantly different.')\n",
    "else:\n",
    "    print('Since p>0.05, we cannot reject the null hypothesis and may conclude that the performance of the two algorithms is not significantly different.')"
   ]
  },
  {
   "cell_type": "code",
   "execution_count": 31,
   "metadata": {},
   "outputs": [
    {
     "name": "stdout",
     "output_type": "stream",
     "text": [
      "Final Accuracy: 88.008\n"
     ]
    }
   ],
   "source": [
    "#From the above 3 models, we got good accuracy for SVC model. So, applying the total data on SVC Model and predecting the sentiment\n",
    "svcModel = LinearSVC(C=0.25)\n",
    "svcModel.fit(tdfTrain, train.sentiment)\n",
    "print (\"Final Accuracy:\",accuracy_score(test.sentiment, svcModel.predict(tdfTest))*100)"
   ]
  },
  {
   "cell_type": "code",
   "execution_count": 32,
   "metadata": {},
   "outputs": [
    {
     "name": "stdout",
     "output_type": "stream",
     "text": [
      "Classification Report:\n",
      "\n",
      "              precision    recall  f1-score   support\n",
      "\n",
      "    Positive       0.88      0.89      0.88     12500\n",
      "    Negative       0.88      0.88      0.88     12500\n",
      "\n",
      "    accuracy                           0.88     25000\n",
      "   macro avg       0.88      0.88      0.88     25000\n",
      "weighted avg       0.88      0.88      0.88     25000\n",
      "\n",
      "Confusion Matrix:\n",
      "\n",
      "[[10939  1561]\n",
      " [ 1437 11063]]\n"
     ]
    }
   ],
   "source": [
    "#Classification report for count vectorized features\n",
    "svc_cv_report=classification_report(test.sentiment,svcModel.predict(tdfTest),target_names=['Positive','Negative'])\n",
    "print(\"Classification Report:\\n\")\n",
    "print(svc_cv_report)\n",
    "\n",
    "#confusion matrix for count vectorized features\n",
    "svc_cv_cm=confusion_matrix(test.sentiment,svcModel.predict(tdfTest),labels=[1,0])\n",
    "print(\"Confusion Matrix:\\n\")\n",
    "print(svc_cv_cm)"
   ]
  },
  {
   "cell_type": "code",
   "execution_count": 33,
   "metadata": {},
   "outputs": [
    {
     "name": "stdout",
     "output_type": "stream",
     "text": [
      "AUC: 0.8800800000000001\n"
     ]
    },
    {
     "data": {
      "image/png": "[encoded data removed]",
      "text/plain": [
       "<Figure size 432x288 with 1 Axes>"
      ]
     },
     "metadata": {
      "needs_background": "light"
     },
     "output_type": "display_data"
    }
   ],
   "source": [
    "fpr, tpr, _ = roc_curve(test.sentiment, svcModel.predict(tdfTest))\n",
    "roc_auc = auc(fpr, tpr)\n",
    "print('AUC:', roc_auc)\n",
    "plt.plot(fpr, tpr)\n",
    "plt.title(\"SVC Model with TF-IDF Vector\")\n",
    "plt.plot([0, 1], [0, 1], color='navy', linestyle='--')\n",
    "plt.xlabel('False Positive Rate')\n",
    "plt.ylabel('True Positive Rate')\n",
    "plt.show()"
   ]
  },
  {
   "cell_type": "code",
   "execution_count": null,
   "metadata": {},
   "outputs": [],
   "source": []
  },
  {
   "cell_type": "code",
   "execution_count": 34,
   "metadata": {},
   "outputs": [],
   "source": [
    "#Using TF Vectorizer\n",
    "tfVect = TfidfVectorizer(use_idf=False)\n",
    "tfVect.fit(train.review)\n",
    "tfTrain = tfVect.transform(train.review)\n",
    "tfTest = tfVect.transform(test.review)"
   ]
  },
  {
   "cell_type": "code",
   "execution_count": 35,
   "metadata": {},
   "outputs": [],
   "source": [
    "# Split data to test preprocessing and modeling techniques\n",
    "X_train, X_test, y_train, y_test = train_test_split(tfTrain, train.sentiment, test_size=0.3)"
   ]
  },
  {
   "cell_type": "code",
   "execution_count": 36,
   "metadata": {},
   "outputs": [
    {
     "name": "stdout",
     "output_type": "stream",
     "text": [
      "84.42666666666668\n"
     ]
    }
   ],
   "source": [
    "#Predecting the sentiment using Random Forest Model\n",
    "rfc = RandomForestClassifier(n_estimators = 100)\n",
    "rfc.fit(X_train, y_train)\n",
    "preds = rfc.predict(X_test)\n",
    "score = accuracy_score(y_test,preds)*100\n",
    "print(score)"
   ]
  },
  {
   "cell_type": "code",
   "execution_count": 37,
   "metadata": {},
   "outputs": [
    {
     "name": "stdout",
     "output_type": "stream",
     "text": [
      "86.24000000000001\n"
     ]
    }
   ],
   "source": [
    "#Predecting the sentiment using Navie Bayes Model\n",
    "nbc = MultinomialNB()\n",
    "nbc.fit(X_train, y_train)\n",
    "preds = nbc.predict(X_test)\n",
    "score = accuracy_score(y_test,preds)*100\n",
    "print(score)"
   ]
  },
  {
   "cell_type": "code",
   "execution_count": 38,
   "metadata": {},
   "outputs": [
    {
     "name": "stdout",
     "output_type": "stream",
     "text": [
      "86.85333333333334\n"
     ]
    }
   ],
   "source": [
    "LRModel = LogisticRegression(max_iter=1000)\n",
    "LRModel.fit(X_train, y_train)\n",
    "preds = LRModel.predict(X_test)\n",
    "score = accuracy_score(y_test,preds)*100\n",
    "print(score)"
   ]
  },
  {
   "cell_type": "code",
   "execution_count": 39,
   "metadata": {
    "scrolled": true
   },
   "outputs": [
    {
     "name": "stdout",
     "output_type": "stream",
     "text": [
      "Accuracy for C= 0.01 is 0.8278666666666666\n",
      "Accuracy for C= 0.25 is 0.8782666666666666\n",
      "Accuracy for C= 0.5 is 0.8808\n",
      "Accuracy for C= 1 is 0.8789333333333333\n"
     ]
    }
   ],
   "source": [
    "#Predecting the sentiment using SVC Model\n",
    "for i in [0.01, 0.25, 0.5, 1]:\n",
    "    svc = LinearSVC(C=i)\n",
    "    svc.fit(X_train, y_train)\n",
    "    print (\"Accuracy for C=\",i,\"is\",accuracy_score(y_test,svc.predict(X_test)))"
   ]
  },
  {
   "cell_type": "code",
   "execution_count": 40,
   "metadata": {},
   "outputs": [
    {
     "name": "stdout",
     "output_type": "stream",
     "text": [
      "LR Mean Accuracy: 87.13524% +/-(0.00874)\n",
      "LinearSVC Mean Accuracy: 88.22476% +/-(0.00870)\n"
     ]
    },
    {
     "data": {
      "image/png": "[encoded data removed]",
      "text/plain": [
       "<Figure size 432x288 with 1 Axes>"
      ]
     },
     "metadata": {
      "needs_background": "light"
     },
     "output_type": "display_data"
    }
   ],
   "source": [
    "# evaluate model\n",
    "LR = LogisticRegression(max_iter=1000)\n",
    "cv1 = RepeatedStratifiedKFold(n_splits = 10, n_repeats = 3, random_state = 1)\n",
    "scores1 = cross_val_score(LR, X_train, y_train, scoring = 'accuracy', cv = cv1, n_jobs = -1)\n",
    "print('LR Mean Accuracy: %.5f%% +/-(%.5f)' % ((scores1*100).mean(), (scores1).std()))\n",
    "# evaluate model\n",
    "SVC = LinearSVC(C=0.5)\n",
    "cv2 = RepeatedStratifiedKFold(n_splits = 10, n_repeats = 3, random_state = 1)\n",
    "scores3 = cross_val_score(SVC, X_train, y_train, scoring = 'accuracy', cv = cv2, n_jobs = -1)\n",
    "print('LinearSVC Mean Accuracy: %.5f%% +/-(%.5f)' % ((scores3*100).mean(), (scores3).std()))\n",
    "# plot the results\n",
    "plt.boxplot([scores1, scores3], labels=['LR', 'SVC'], showmeans=True)\n",
    "plt.show()"
   ]
  },
  {
   "cell_type": "code",
   "execution_count": 41,
   "metadata": {},
   "outputs": [
    {
     "name": "stdout",
     "output_type": "stream",
     "text": [
      "The P-value is = 0.004\n",
      "The t-statistics is = -5.158\n",
      "Since p<0.05, We can reject the null-hypothesis that both models perform equally well on this dataset. We may conclude that the two algorithms are significantly different.\n"
     ]
    }
   ],
   "source": [
    "from mlxtend.evaluate import paired_ttest_5x2cv\n",
    "# check if difference between algorithms is real\n",
    "t, p = paired_ttest_5x2cv(estimator1=LR, \n",
    "                          estimator2=SVC, \n",
    "                          X=X_train, \n",
    "                          y=y_train, \n",
    "                          scoring='accuracy',\n",
    "                          random_seed=1)\n",
    "# summarize\n",
    "print(f'The P-value is = {p:.3f}')\n",
    "print(f'The t-statistics is = {t:.3f}')\n",
    "# interpret the result\n",
    "if p <= 0.05:\n",
    "    print('Since p<0.05, We can reject the null-hypothesis that both models perform equally well on this dataset. We may conclude that the two algorithms are significantly different.')\n",
    "else:\n",
    "    print('Since p>0.05, we cannot reject the null hypothesis and may conclude that the performance of the two algorithms is not significantly different.')"
   ]
  },
  {
   "cell_type": "code",
   "execution_count": 42,
   "metadata": {},
   "outputs": [
    {
     "name": "stdout",
     "output_type": "stream",
     "text": [
      "Final Accuracy: 87.964\n"
     ]
    }
   ],
   "source": [
    "svcModel = LinearSVC(C=0.5)\n",
    "svcModel.fit(tfTrain, train.sentiment)\n",
    "print (\"Final Accuracy:\",accuracy_score(test.sentiment, svcModel.predict(tfTest))*100)"
   ]
  },
  {
   "cell_type": "code",
   "execution_count": 43,
   "metadata": {},
   "outputs": [
    {
     "name": "stdout",
     "output_type": "stream",
     "text": [
      "Classification Report:\n",
      "\n",
      "              precision    recall  f1-score   support\n",
      "\n",
      "    Positive       0.88      0.88      0.88     12500\n",
      "    Negative       0.88      0.88      0.88     12500\n",
      "\n",
      "    accuracy                           0.88     25000\n",
      "   macro avg       0.88      0.88      0.88     25000\n",
      "weighted avg       0.88      0.88      0.88     25000\n",
      "\n",
      "Confusion Matrix:\n",
      "\n",
      "[[10955  1545]\n",
      " [ 1464 11036]]\n"
     ]
    }
   ],
   "source": [
    "#Classification report for count vectorized features\n",
    "svc_cv_report=classification_report(test.sentiment,svcModel.predict(tfTest),target_names=['Positive','Negative'])\n",
    "print(\"Classification Report:\\n\")\n",
    "print(svc_cv_report)\n",
    "\n",
    "#confusion matrix for count vectorized features\n",
    "svc_cv_cm=confusion_matrix(test.sentiment,svcModel.predict(tfTest),labels=[1,0])\n",
    "print(\"Confusion Matrix:\\n\")\n",
    "print(svc_cv_cm)"
   ]
  },
  {
   "cell_type": "code",
   "execution_count": 44,
   "metadata": {},
   "outputs": [
    {
     "name": "stdout",
     "output_type": "stream",
     "text": [
      "AUC: 0.8796399999999999\n"
     ]
    },
    {
     "data": {
      "image/png": "[encoded data removed]",
      "text/plain": [
       "<Figure size 432x288 with 1 Axes>"
      ]
     },
     "metadata": {
      "needs_background": "light"
     },
     "output_type": "display_data"
    }
   ],
   "source": [
    "fpr, tpr, _ = roc_curve(test.sentiment, svcModel.predict(tfTest))\n",
    "roc_auc = auc(fpr, tpr)\n",
    "print('AUC:', roc_auc)\n",
    "plt.plot(fpr, tpr)\n",
    "plt.title(\"SVC Model with TF Vector\")\n",
    "plt.plot([0, 1], [0, 1], color='navy', linestyle='--')\n",
    "plt.xlabel('False Positive Rate')\n",
    "plt.ylabel('True Positive Rate')\n",
    "plt.show()"
   ]
  },
  {
   "cell_type": "code",
   "execution_count": null,
   "metadata": {},
   "outputs": [],
   "source": []
  },
  {
   "cell_type": "code",
   "execution_count": 45,
   "metadata": {},
   "outputs": [],
   "source": [
    "stopWords = ['in', 'of', 'at', 'a', 'the']\n",
    "countVect = CountVectorizer(analyzer = \"word\", binary=True, ngram_range=(1, 2), stop_words=stopWords)\n",
    "bwVectorizer = countVect.fit(train.review)\n",
    "bwTotalTrain = bwVectorizer.transform(train.review)\n",
    "bwTotalTest = bwVectorizer.transform(test.review)\n",
    "totalTrainTarget = train.sentiment\n",
    "totalTestTarget = test.sentiment"
   ]
  },
  {
   "cell_type": "code",
   "execution_count": 46,
   "metadata": {},
   "outputs": [
    {
     "name": "stdout",
     "output_type": "stream",
     "text": [
      "Accuracy for C= 0.01 is 0.89056\n",
      "Accuracy for C= 0.25 is 0.88896\n",
      "Accuracy for C= 0.5 is 0.88832\n",
      "Accuracy for C= 1 is 0.88848\n"
     ]
    },
    {
     "name": "stderr",
     "output_type": "stream",
     "text": [
      "C:\\Users\\srava\\anaconda3\\lib\\site-packages\\sklearn\\svm\\_base.py:976: ConvergenceWarning: Liblinear failed to converge, increase the number of iterations.\n",
      "  warnings.warn(\"Liblinear failed to converge, increase \"\n"
     ]
    }
   ],
   "source": [
    "X_train, X_test, Y_train, Y_test = train_test_split(bwTotalTrain, totalTrainTarget, train_size = 0.75)\n",
    "\n",
    "for i in [0.01, 0.25, 0.5, 1]:\n",
    "    svcModel = LinearSVC(C=i)\n",
    "    svcModel.fit(X_train, Y_train)\n",
    "    print (\"Accuracy for C=\",i,\"is\",accuracy_score(Y_test,svcModel.predict(X_test)))"
   ]
  },
  {
   "cell_type": "code",
   "execution_count": 47,
   "metadata": {},
   "outputs": [
    {
     "name": "stdout",
     "output_type": "stream",
     "text": [
      "Final Accuracy: 88.716\n"
     ]
    }
   ],
   "source": [
    "svcModel = LinearSVC(C=0.01)\n",
    "svcModel.fit(bwTotalTrain, totalTrainTarget)\n",
    "print (\"Final Accuracy:\",accuracy_score(totalTestTarget, svcModel.predict(bwTotalTest))*100)"
   ]
  },
  {
   "cell_type": "code",
   "execution_count": 48,
   "metadata": {},
   "outputs": [
    {
     "name": "stdout",
     "output_type": "stream",
     "text": [
      "Classification Report:\n",
      "\n",
      "              precision    recall  f1-score   support\n",
      "\n",
      "    Positive       0.89      0.88      0.89     12500\n",
      "    Negative       0.88      0.89      0.89     12500\n",
      "\n",
      "    accuracy                           0.89     25000\n",
      "   macro avg       0.89      0.89      0.89     25000\n",
      "weighted avg       0.89      0.89      0.89     25000\n",
      "\n",
      "Confusion Matrix:\n",
      "\n",
      "[[11167  1333]\n",
      " [ 1488 11012]]\n"
     ]
    }
   ],
   "source": [
    "#Classification report for count vectorized features\n",
    "lsvc_cv_report=classification_report(totalTestTarget,svcModel.predict(bwTotalTest),target_names=['Positive','Negative'])\n",
    "print(\"Classification Report:\\n\")\n",
    "print(lsvc_cv_report)\n",
    "\n",
    "#confusion matrix for count vectorized features\n",
    "lsvc_cv_cm=confusion_matrix(totalTestTarget,svcModel.predict(bwTotalTest),labels=[1,0])\n",
    "print(\"Confusion Matrix:\\n\")\n",
    "print(lsvc_cv_cm)"
   ]
  },
  {
   "cell_type": "code",
   "execution_count": 49,
   "metadata": {},
   "outputs": [
    {
     "name": "stdout",
     "output_type": "stream",
     "text": [
      "AUC: 0.88716\n"
     ]
    },
    {
     "data": {
      "image/png": "[encoded data removed]",
      "text/plain": [
       "<Figure size 432x288 with 1 Axes>"
      ]
     },
     "metadata": {
      "needs_background": "light"
     },
     "output_type": "display_data"
    }
   ],
   "source": [
    "fpr, tpr, _ = roc_curve(totalTestTarget, svcModel.predict(bwTotalTest))\n",
    "roc_auc = auc(fpr, tpr)\n",
    "print('AUC:', roc_auc)\n",
    "plt.plot(fpr, tpr)\n",
    "plt.title(\"SVC\")\n",
    "plt.plot([0, 1], [0, 1], color='navy', linestyle='--')\n",
    "plt.xlabel('False Positive Rate')\n",
    "plt.ylabel('True Positive Rate')\n",
    "plt.show()"
   ]
  }
 ],
 "metadata": {
  "kernelspec": {
   "display_name": "Python 3",
   "language": "python",
   "name": "python3"
  },
  "language_info": {
   "codemirror_mode": {
    "name": "ipython",
    "version": 3
   },
   "file_extension": ".py",
   "mimetype": "text/x-python",
   "name": "python",
   "nbconvert_exporter": "python",
   "pygments_lexer": "ipython3",
   "version": "3.8.5"
  }
 },
 "nbformat": 4,
 "nbformat_minor": 4
}
